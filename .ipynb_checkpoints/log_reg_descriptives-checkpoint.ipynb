{
 "cells": [
  {
   "cell_type": "markdown",
   "metadata": {},
   "source": [
    "## Summary Statistics\n",
    "Logistic regression sample: HERON data extract\n",
    "\n",
    "Remaining TODOs:\n",
    "- chart reviews\n",
    "- formalize LOR vs LOT\n",
    "- assess need for transformations (likely, heavily right tailed; natural log should take care of it)\n",
    "- Withdraw age < 14 (after chart review)\n",
    "- handle outliers (will heavily weight regression coefficients)\n",
    "- fill in some NAs with [0] when appropriate for modeling purposes (i.e. historical diagnoses)"
   ]
  },
  {
   "cell_type": "code",
   "execution_count": null,
   "metadata": {
    "collapsed": true
   },
   "outputs": [],
   "source": [
    "#load packages\n",
    "#build sqldf package from anaconda python distribution"
   ]
  },
  {
   "cell_type": "code",
   "execution_count": null,
   "metadata": {
    "collapsed": true
   },
   "outputs": [],
   "source": [
    "#import data\n",
    "setwd(\"C:/Users/MB047320/OneDrive - Cerner Corporation/KUMC/Dissertation/data/Mark_dissertation_20170718/\")\n",
    "master <- read.csv('master.csv', stringsAsFactors = FALSE)\n",
    "concussion_dx <- read.csv('concussion_dx_cohort.csv', stringsAsFactors = FALSE)\n",
    "demo <- read.csv('Mark_dissertation_20170718-patient.csv', stringsAsFactors = FALSE)\n",
    "enc_loc <- read.csv('encounter_location.csv', stringsAsFactors = FALSE)\n",
    "med_hx <- read.csv('medical_history.csv', stringsAsFactors = FALSE)\n",
    "results <- read.csv('results.csv', stringsAsFactors = FALSE)\n",
    "notes <- read.csv('text_notes.csv', stringsAsFactors = FALSE)\n",
    "log_reg <- read.csv('logistic_regression_data_cleaned.csv') #current working dataset"
   ]
  },
  {
   "cell_type": "code",
   "execution_count": null,
   "metadata": {},
   "outputs": [],
   "source": [
    "head(master, 30)"
   ]
  },
  {
   "cell_type": "code",
   "execution_count": null,
   "metadata": {},
   "outputs": [],
   "source": [
    "head(log_reg, 15)"
   ]
  },
  {
   "cell_type": "code",
   "execution_count": null,
   "metadata": {},
   "outputs": [],
   "source": [
    "dim(log_reg)"
   ]
  },
  {
   "cell_type": "code",
   "execution_count": null,
   "metadata": {},
   "outputs": [],
   "source": [
    "summary(log_reg$age)"
   ]
  },
  {
   "cell_type": "code",
   "execution_count": null,
   "metadata": {
    "scrolled": false
   },
   "outputs": [],
   "source": [
    "hist(log_reg$age, prob = TRUE, main = \"Age Distribution\")\n",
    "points(density(log_reg$age), type = \"l\", col = \"blue\")"
   ]
  },
  {
   "cell_type": "code",
   "execution_count": null,
   "metadata": {},
   "outputs": [],
   "source": [
    "summary(log_reg$LOR)"
   ]
  },
  {
   "cell_type": "code",
   "execution_count": null,
   "metadata": {},
   "outputs": [],
   "source": [
    "hist(log_reg$LOR, breaks = 150)"
   ]
  },
  {
   "cell_type": "code",
   "execution_count": null,
   "metadata": {},
   "outputs": [],
   "source": [
    "names(log_reg)"
   ]
  },
  {
   "cell_type": "code",
   "execution_count": null,
   "metadata": {},
   "outputs": [],
   "source": [
    "max(as.Date(log_reg$eval_date))"
   ]
  },
  {
   "cell_type": "code",
   "execution_count": null,
   "metadata": {},
   "outputs": [],
   "source": [
    "min(as.Date(log_reg$eval_date))"
   ]
  },
  {
   "cell_type": "code",
   "execution_count": null,
   "metadata": {
    "scrolled": true
   },
   "outputs": [],
   "source": [
    "attach(log_reg)\n",
    "plot(age,LOR, main = \"Scatterplot: Age vs LOR\",\n",
    "    xlab = \"Age at Eval\", ylab = \"Length of Recovery (days)\")\n"
   ]
  },
  {
   "cell_type": "code",
   "execution_count": null,
   "metadata": {},
   "outputs": [],
   "source": [
    "plot(CONCUSSION_SYMPTOMS_TOTAL_SCORE, LOR, main = \"Scatterplot: ImPACT Total Symptoms vs LOR\",\n",
    "     xlab = \"ImPACT Total Symptoms at evaluation\", ylab= \"Length of Recovery (days)\")"
   ]
  },
  {
   "cell_type": "code",
   "execution_count": null,
   "metadata": {},
   "outputs": [],
   "source": [
    "boxplot(log_reg[,'LOR'])"
   ]
  }
 ],
 "metadata": {
  "kernelspec": {
   "display_name": "R",
   "language": "R",
   "name": "ir"
  },
  "language_info": {
   "codemirror_mode": "r",
   "file_extension": ".r",
   "mimetype": "text/x-r-source",
   "name": "R",
   "pygments_lexer": "r",
   "version": "3.4.1"
  }
 },
 "nbformat": 4,
 "nbformat_minor": 2
}
