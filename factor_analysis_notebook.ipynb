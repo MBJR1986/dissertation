{
 "cells": [
  {
   "cell_type": "markdown",
   "metadata": {},
   "source": [
    "## Factor Analysis for Long Treatment time\n",
    "\n",
    "Question: Which factors influence a longer treatment time after a concussion?"
   ]
  },
  {
   "cell_type": "markdown",
   "metadata": {},
   "source": [
    "General Notes:\n",
    "- raw data includes patients from Concussion Clinic only\n",
    "- Subjects will not need to verify injury date (doing so reduces population to 150 people)\n",
    "- Ideal subject to variable ration = 5-10:1 (Thus, only include absolutely necessary variables)\n",
    "- Needed to dummify (1,0s) some variables for the analysis\n",
    "- some variables likely will need to be binned"
   ]
  },
  {
   "cell_type": "code",
   "execution_count": 12,
   "metadata": {},
   "outputs": [
    {
     "name": "stdout",
     "output_type": "stream",
     "text": [
      "package 'GPArotation' successfully unpacked and MD5 sums checked\n",
      "\n",
      "The downloaded binary packages are in\n",
      "\tC:\\Users\\MB047320\\AppData\\Local\\Temp\\Rtmpu05zkt\\downloaded_packages\n"
     ]
    }
   ],
   "source": [
    "#load packages\n",
    "library(psych)\n",
    "install.packages(\"GPArotation\", repos='http://cran.us.r-project.org') #if not already installed\n",
    "library(GPArotation)"
   ]
  },
  {
   "cell_type": "code",
   "execution_count": 15,
   "metadata": {},
   "outputs": [
    {
     "data": {
      "text/html": [
       "<table>\n",
       "<thead><tr><th scope=col>X</th><th scope=col>age</th><th scope=col>sex_male</th><th scope=col>race_white</th><th scope=col>religious</th><th scope=col>concussion_hxdx</th><th scope=col>historical_dx_count</th><th scope=col>impact_verbal_memory</th><th scope=col>impact_visual_memory</th><th scope=col>impact_comment</th><th scope=col>impact_impulse_control</th><th scope=col>impact_reaction_time</th><th scope=col>impact_total_symptom</th><th scope=col>impact_visual_motor</th></tr></thead>\n",
       "<tbody>\n",
       "\t<tr><td>19   </td><td>19   </td><td>0    </td><td>0    </td><td>0    </td><td>1    </td><td>0    </td><td>77   </td><td>93   </td><td>0.53 </td><td>7    </td><td>0.76 </td><td>63   </td><td>42.58</td></tr>\n",
       "\t<tr><td>24   </td><td>15   </td><td>0    </td><td>0    </td><td>0    </td><td>0    </td><td>1    </td><td>66   </td><td>72   </td><td>0.32 </td><td>8    </td><td>1.06 </td><td>43   </td><td>38.17</td></tr>\n",
       "\t<tr><td>28   </td><td>18   </td><td>1    </td><td>1    </td><td>0    </td><td>0    </td><td>0    </td><td>74   </td><td>64   </td><td>0.46 </td><td>8    </td><td>0.69 </td><td>34   </td><td>39.00</td></tr>\n",
       "\t<tr><td>29   </td><td>15   </td><td>1    </td><td>0    </td><td>0    </td><td>0    </td><td>0    </td><td>88   </td><td>65   </td><td>0.45 </td><td>3    </td><td>0.80 </td><td>50   </td><td>29.25</td></tr>\n",
       "\t<tr><td>53   </td><td>16   </td><td>0    </td><td>1    </td><td>1    </td><td>0    </td><td>0    </td><td>80   </td><td>58   </td><td>0.36 </td><td>8    </td><td>0.74 </td><td>54   </td><td>39.53</td></tr>\n",
       "\t<tr><td>58   </td><td>18   </td><td>0    </td><td>1    </td><td>1    </td><td>0    </td><td>0    </td><td>91   </td><td>80   </td><td>0.49 </td><td>2    </td><td>0.89 </td><td>36   </td><td>33.50</td></tr>\n",
       "</tbody>\n",
       "</table>\n"
      ],
      "text/latex": [
       "\\begin{tabular}{r|llllllllllllll}\n",
       " X & age & sex\\_male & race\\_white & religious & concussion\\_hxdx & historical\\_dx\\_count & impact\\_verbal\\_memory & impact\\_visual\\_memory & impact\\_comment & impact\\_impulse\\_control & impact\\_reaction\\_time & impact\\_total\\_symptom & impact\\_visual\\_motor\\\\\n",
       "\\hline\n",
       "\t 19    & 19    & 0     & 0     & 0     & 1     & 0     & 77    & 93    & 0.53  & 7     & 0.76  & 63    & 42.58\\\\\n",
       "\t 24    & 15    & 0     & 0     & 0     & 0     & 1     & 66    & 72    & 0.32  & 8     & 1.06  & 43    & 38.17\\\\\n",
       "\t 28    & 18    & 1     & 1     & 0     & 0     & 0     & 74    & 64    & 0.46  & 8     & 0.69  & 34    & 39.00\\\\\n",
       "\t 29    & 15    & 1     & 0     & 0     & 0     & 0     & 88    & 65    & 0.45  & 3     & 0.80  & 50    & 29.25\\\\\n",
       "\t 53    & 16    & 0     & 1     & 1     & 0     & 0     & 80    & 58    & 0.36  & 8     & 0.74  & 54    & 39.53\\\\\n",
       "\t 58    & 18    & 0     & 1     & 1     & 0     & 0     & 91    & 80    & 0.49  & 2     & 0.89  & 36    & 33.50\\\\\n",
       "\\end{tabular}\n"
      ],
      "text/markdown": [
       "\n",
       "X | age | sex_male | race_white | religious | concussion_hxdx | historical_dx_count | impact_verbal_memory | impact_visual_memory | impact_comment | impact_impulse_control | impact_reaction_time | impact_total_symptom | impact_visual_motor | \n",
       "|---|---|---|---|---|---|\n",
       "| 19    | 19    | 0     | 0     | 0     | 1     | 0     | 77    | 93    | 0.53  | 7     | 0.76  | 63    | 42.58 | \n",
       "| 24    | 15    | 0     | 0     | 0     | 0     | 1     | 66    | 72    | 0.32  | 8     | 1.06  | 43    | 38.17 | \n",
       "| 28    | 18    | 1     | 1     | 0     | 0     | 0     | 74    | 64    | 0.46  | 8     | 0.69  | 34    | 39.00 | \n",
       "| 29    | 15    | 1     | 0     | 0     | 0     | 0     | 88    | 65    | 0.45  | 3     | 0.80  | 50    | 29.25 | \n",
       "| 53    | 16    | 0     | 1     | 1     | 0     | 0     | 80    | 58    | 0.36  | 8     | 0.74  | 54    | 39.53 | \n",
       "| 58    | 18    | 0     | 1     | 1     | 0     | 0     | 91    | 80    | 0.49  | 2     | 0.89  | 36    | 33.50 | \n",
       "\n",
       "\n"
      ],
      "text/plain": [
       "  X  age sex_male race_white religious concussion_hxdx historical_dx_count\n",
       "1 19 19  0        0          0         1               0                  \n",
       "2 24 15  0        0          0         0               1                  \n",
       "3 28 18  1        1          0         0               0                  \n",
       "4 29 15  1        0          0         0               0                  \n",
       "5 53 16  0        1          1         0               0                  \n",
       "6 58 18  0        1          1         0               0                  \n",
       "  impact_verbal_memory impact_visual_memory impact_comment\n",
       "1 77                   93                   0.53          \n",
       "2 66                   72                   0.32          \n",
       "3 74                   64                   0.46          \n",
       "4 88                   65                   0.45          \n",
       "5 80                   58                   0.36          \n",
       "6 91                   80                   0.49          \n",
       "  impact_impulse_control impact_reaction_time impact_total_symptom\n",
       "1 7                      0.76                 63                  \n",
       "2 8                      1.06                 43                  \n",
       "3 8                      0.69                 34                  \n",
       "4 3                      0.80                 50                  \n",
       "5 8                      0.74                 54                  \n",
       "6 2                      0.89                 36                  \n",
       "  impact_visual_motor\n",
       "1 42.58              \n",
       "2 38.17              \n",
       "3 39.00              \n",
       "4 29.25              \n",
       "5 39.53              \n",
       "6 33.50              "
      ]
     },
     "metadata": {},
     "output_type": "display_data"
    },
    {
     "data": {
      "text/html": [
       "<ol class=list-inline>\n",
       "\t<li>81</li>\n",
       "\t<li>14</li>\n",
       "</ol>\n"
      ],
      "text/latex": [
       "\\begin{enumerate*}\n",
       "\\item 81\n",
       "\\item 14\n",
       "\\end{enumerate*}\n"
      ],
      "text/markdown": [
       "1. 81\n",
       "2. 14\n",
       "\n",
       "\n"
      ],
      "text/plain": [
       "[1] 81 14"
      ]
     },
     "metadata": {},
     "output_type": "display_data"
    }
   ],
   "source": [
    "#load data\n",
    "final <- read.csv('C:/Users/MB047320/OneDrive - Cerner Corporation/KUMC/Dissertation/data/Mark_dissertation_20170718/factor_analysis.csv')\n",
    "head(final)\n",
    "dim(final)"
   ]
  },
  {
   "cell_type": "code",
   "execution_count": 18,
   "metadata": {},
   "outputs": [
    {
     "data": {
      "text/html": [
       "<table>\n",
       "<thead><tr><th scope=col>X</th><th scope=col>age</th><th scope=col>sex_male</th><th scope=col>race_white</th><th scope=col>religious</th><th scope=col>concussion_hxdx</th><th scope=col>historical_dx_count</th><th scope=col>impact_verbal_memory</th><th scope=col>impact_visual_memory</th><th scope=col>impact_comment</th><th scope=col>impact_impulse_control</th><th scope=col>impact_reaction_time</th><th scope=col>impact_total_symptom</th><th scope=col>impact_visual_motor</th></tr></thead>\n",
       "<tbody>\n",
       "\t<tr><td>-1.699313  </td><td> 0.4661388 </td><td>-0.8888889 </td><td>-2.0846292 </td><td>-1.1684549 </td><td> 1.4873956 </td><td>-0.332782  </td><td>-0.7760388 </td><td> 1.3122778 </td><td> 1.39214088</td><td>-0.15089433</td><td>-0.1051182 </td><td>1.5492975  </td><td> 0.9031889 </td></tr>\n",
       "\t<tr><td>-1.673928  </td><td>-0.4068611 </td><td>-0.8888889 </td><td>-2.0846292 </td><td>-1.1684549 </td><td>-0.6640159 </td><td> 1.592599  </td><td>-1.6894477 </td><td>-0.2197637 </td><td>-0.43645498</td><td>-0.05614673</td><td> 1.5753904 </td><td>0.7184925  </td><td> 0.2340997 </td></tr>\n",
       "\t<tr><td>-1.653620  </td><td> 0.2478889 </td><td> 1.1111111 </td><td> 0.4737794 </td><td>-1.1684549 </td><td>-0.6640159 </td><td>-0.332782  </td><td>-1.0251503 </td><td>-0.8033986 </td><td> 0.78260893</td><td>-0.05614673</td><td>-0.4972369 </td><td>0.3446302  </td><td> 0.3600281 </td></tr>\n",
       "\t<tr><td>-1.648542  </td><td>-0.4068611 </td><td> 1.1111111 </td><td>-2.0846292 </td><td>-1.1684549 </td><td>-0.6640159 </td><td>-0.332782  </td><td> 0.1373701 </td><td>-0.7304442 </td><td> 0.69553293</td><td>-0.52988475</td><td> 0.1189496 </td><td>1.0092742  </td><td>-1.1192506 </td></tr>\n",
       "\t<tr><td>-1.526693  </td><td>-0.1886111 </td><td>-0.8888889 </td><td> 0.4737794 </td><td> 0.8452652 </td><td>-0.6640159 </td><td>-0.332782  </td><td>-0.5269272 </td><td>-1.2411247 </td><td>-0.08815101</td><td>-0.05614673</td><td>-0.2171521 </td><td>1.1754353  </td><td> 0.4404401 </td></tr>\n",
       "\t<tr><td>-1.501308  </td><td> 0.2478889 </td><td>-0.8888889 </td><td> 0.4737794 </td><td> 0.8452652 </td><td>-0.6640159 </td><td>-0.332782  </td><td> 0.3864817 </td><td> 0.3638711 </td><td> 1.04383690</td><td>-0.62463235</td><td> 0.6231022 </td><td>0.4277107  </td><td>-0.4744369 </td></tr>\n",
       "</tbody>\n",
       "</table>\n"
      ],
      "text/latex": [
       "\\begin{tabular}{r|llllllllllllll}\n",
       " X & age & sex\\_male & race\\_white & religious & concussion\\_hxdx & historical\\_dx\\_count & impact\\_verbal\\_memory & impact\\_visual\\_memory & impact\\_comment & impact\\_impulse\\_control & impact\\_reaction\\_time & impact\\_total\\_symptom & impact\\_visual\\_motor\\\\\n",
       "\\hline\n",
       "\t -1.699313   &  0.4661388  & -0.8888889  & -2.0846292  & -1.1684549  &  1.4873956  & -0.332782   & -0.7760388  &  1.3122778  &  1.39214088 & -0.15089433 & -0.1051182  & 1.5492975   &  0.9031889 \\\\\n",
       "\t -1.673928   & -0.4068611  & -0.8888889  & -2.0846292  & -1.1684549  & -0.6640159  &  1.592599   & -1.6894477  & -0.2197637  & -0.43645498 & -0.05614673 &  1.5753904  & 0.7184925   &  0.2340997 \\\\\n",
       "\t -1.653620   &  0.2478889  &  1.1111111  &  0.4737794  & -1.1684549  & -0.6640159  & -0.332782   & -1.0251503  & -0.8033986  &  0.78260893 & -0.05614673 & -0.4972369  & 0.3446302   &  0.3600281 \\\\\n",
       "\t -1.648542   & -0.4068611  &  1.1111111  & -2.0846292  & -1.1684549  & -0.6640159  & -0.332782   &  0.1373701  & -0.7304442  &  0.69553293 & -0.52988475 &  0.1189496  & 1.0092742   & -1.1192506 \\\\\n",
       "\t -1.526693   & -0.1886111  & -0.8888889  &  0.4737794  &  0.8452652  & -0.6640159  & -0.332782   & -0.5269272  & -1.2411247  & -0.08815101 & -0.05614673 & -0.2171521  & 1.1754353   &  0.4404401 \\\\\n",
       "\t -1.501308   &  0.2478889  & -0.8888889  &  0.4737794  &  0.8452652  & -0.6640159  & -0.332782   &  0.3864817  &  0.3638711  &  1.04383690 & -0.62463235 &  0.6231022  & 0.4277107   & -0.4744369 \\\\\n",
       "\\end{tabular}\n"
      ],
      "text/markdown": [
       "\n",
       "X | age | sex_male | race_white | religious | concussion_hxdx | historical_dx_count | impact_verbal_memory | impact_visual_memory | impact_comment | impact_impulse_control | impact_reaction_time | impact_total_symptom | impact_visual_motor | \n",
       "|---|---|---|---|---|---|\n",
       "| -1.699313   |  0.4661388  | -0.8888889  | -2.0846292  | -1.1684549  |  1.4873956  | -0.332782   | -0.7760388  |  1.3122778  |  1.39214088 | -0.15089433 | -0.1051182  | 1.5492975   |  0.9031889  | \n",
       "| -1.673928   | -0.4068611  | -0.8888889  | -2.0846292  | -1.1684549  | -0.6640159  |  1.592599   | -1.6894477  | -0.2197637  | -0.43645498 | -0.05614673 |  1.5753904  | 0.7184925   |  0.2340997  | \n",
       "| -1.653620   |  0.2478889  |  1.1111111  |  0.4737794  | -1.1684549  | -0.6640159  | -0.332782   | -1.0251503  | -0.8033986  |  0.78260893 | -0.05614673 | -0.4972369  | 0.3446302   |  0.3600281  | \n",
       "| -1.648542   | -0.4068611  |  1.1111111  | -2.0846292  | -1.1684549  | -0.6640159  | -0.332782   |  0.1373701  | -0.7304442  |  0.69553293 | -0.52988475 |  0.1189496  | 1.0092742   | -1.1192506  | \n",
       "| -1.526693   | -0.1886111  | -0.8888889  |  0.4737794  |  0.8452652  | -0.6640159  | -0.332782   | -0.5269272  | -1.2411247  | -0.08815101 | -0.05614673 | -0.2171521  | 1.1754353   |  0.4404401  | \n",
       "| -1.501308   |  0.2478889  | -0.8888889  |  0.4737794  |  0.8452652  | -0.6640159  | -0.332782   |  0.3864817  |  0.3638711  |  1.04383690 | -0.62463235 |  0.6231022  | 0.4277107   | -0.4744369  | \n",
       "\n",
       "\n"
      ],
      "text/plain": [
       "  X         age        sex_male   race_white religious  concussion_hxdx\n",
       "1 -1.699313  0.4661388 -0.8888889 -2.0846292 -1.1684549  1.4873956     \n",
       "2 -1.673928 -0.4068611 -0.8888889 -2.0846292 -1.1684549 -0.6640159     \n",
       "3 -1.653620  0.2478889  1.1111111  0.4737794 -1.1684549 -0.6640159     \n",
       "4 -1.648542 -0.4068611  1.1111111 -2.0846292 -1.1684549 -0.6640159     \n",
       "5 -1.526693 -0.1886111 -0.8888889  0.4737794  0.8452652 -0.6640159     \n",
       "6 -1.501308  0.2478889 -0.8888889  0.4737794  0.8452652 -0.6640159     \n",
       "  historical_dx_count impact_verbal_memory impact_visual_memory impact_comment\n",
       "1 -0.332782           -0.7760388            1.3122778            1.39214088   \n",
       "2  1.592599           -1.6894477           -0.2197637           -0.43645498   \n",
       "3 -0.332782           -1.0251503           -0.8033986            0.78260893   \n",
       "4 -0.332782            0.1373701           -0.7304442            0.69553293   \n",
       "5 -0.332782           -0.5269272           -1.2411247           -0.08815101   \n",
       "6 -0.332782            0.3864817            0.3638711            1.04383690   \n",
       "  impact_impulse_control impact_reaction_time impact_total_symptom\n",
       "1 -0.15089433            -0.1051182           1.5492975           \n",
       "2 -0.05614673             1.5753904           0.7184925           \n",
       "3 -0.05614673            -0.4972369           0.3446302           \n",
       "4 -0.52988475             0.1189496           1.0092742           \n",
       "5 -0.05614673            -0.2171521           1.1754353           \n",
       "6 -0.62463235             0.6231022           0.4277107           \n",
       "  impact_visual_motor\n",
       "1  0.9031889         \n",
       "2  0.2340997         \n",
       "3  0.3600281         \n",
       "4 -1.1192506         \n",
       "5  0.4404401         \n",
       "6 -0.4744369         "
      ]
     },
     "metadata": {},
     "output_type": "display_data"
    }
   ],
   "source": [
    "#standardized variables (rescaled to mean of 0 and SD of 1). Makes it easier for comparison across units.\n",
    "final_stan = as.data.frame(scale(final))\n",
    "head(final_stan)"
   ]
  },
  {
   "cell_type": "markdown",
   "metadata": {},
   "source": [
    "ss loadings in outputs = eigenvalues (i.e. variance in all variables which is accounted for by that factor. \n",
    "- the eigenvalue/ number of variables = proportion variance) <br>\n"
   ]
  },
  {
   "cell_type": "markdown",
   "metadata": {},
   "source": [
    "<br>\n",
    "As a rule-of-thumb a factor is important if its eigenvalue is greater than 1 (i.e., the average) <br>\n",
    "- (this is also referred to as the Kaiser Rule)"
   ]
  },
  {
   "cell_type": "code",
   "execution_count": 21,
   "metadata": {},
   "outputs": [
    {
     "name": "stderr",
     "output_type": "stream",
     "text": [
      "Warning message in fac(r = r, nfactors = nfactors, n.obs = n.obs, rotate = rotate, :\n",
      "\" A loading greater than abs(1) was detected.  Examine the loadings carefully.\"The estimated weights for the factor scores are probably incorrect.  Try a different factor extraction method.\n",
      "Warning message in fac(r = r, nfactors = nfactors, n.obs = n.obs, rotate = rotate, :\n",
      "\"An ultra-Heywood case was detected.  Examine the results carefully\""
     ]
    },
    {
     "name": "stdout",
     "output_type": "stream",
     "text": [
      "Parallel analysis suggests that the number of factors =  3  and the number of components =  NA \n"
     ]
    },
    {
     "data": {
      "image/png": "[encoded data removed]",
      "text/plain": [
       "Plot with title \"Parallel Analysis Scree Plots\""
      ]
     },
     "metadata": {},
     "output_type": "display_data"
    }
   ],
   "source": [
    "#parallel analysis for # of factors\n",
    "parallel <- fa.parallel(final_stan, fm = 'minres', fa = 'fa')\n"
   ]
  },
  {
   "cell_type": "markdown",
   "metadata": {},
   "source": [
    "Parallel analysis suggests that there are likely 3 factors in this sample to consider.\n"
   ]
  },
  {
   "cell_type": "code",
   "execution_count": 23,
   "metadata": {},
   "outputs": [
    {
     "name": "stdout",
     "output_type": "stream",
     "text": [
      "Factor Analysis using method =  minres\n",
      "Call: fa(r = final_stan, nfactors = 3, rotate = \"oblimin\", fm = \"minres\")\n",
      "Standardized loadings (pattern matrix) based upon correlation matrix\n",
      "                         MR1   MR2   MR3   h2   u2 com\n",
      "X                      -0.20 -0.34  0.09 0.13 0.87 1.8\n",
      "age                     0.03 -0.05  0.63 0.41 0.59 1.0\n",
      "sex_male               -0.30 -0.29  0.09 0.14 0.86 2.2\n",
      "race_white              0.02  0.06  0.13 0.02 0.98 1.4\n",
      "religious              -0.03 -0.26 -0.35 0.18 0.82 1.9\n",
      "concussion_hxdx         0.30  0.35  0.25 0.22 0.78 2.8\n",
      "historical_dx_count    -0.13  0.00  0.57 0.34 0.66 1.1\n",
      "impact_verbal_memory    0.84 -0.04  0.00 0.73 0.27 1.0\n",
      "impact_visual_memory    0.62  0.11 -0.10 0.37 0.63 1.1\n",
      "impact_comment          0.68 -0.14  0.02 0.52 0.48 1.1\n",
      "impact_impulse_control -0.05  0.39 -0.11 0.18 0.82 1.2\n",
      "impact_reaction_time   -0.09  0.67  0.02 0.48 0.52 1.0\n",
      "impact_total_symptom    0.19  0.45  0.02 0.20 0.80 1.3\n",
      "impact_visual_motor     0.29 -0.54  0.09 0.47 0.53 1.6\n",
      "\n",
      "                       MR1  MR2  MR3\n",
      "SS loadings           1.91 1.51 0.97\n",
      "Proportion Var        0.14 0.11 0.07\n",
      "Cumulative Var        0.14 0.24 0.31\n",
      "Proportion Explained  0.44 0.34 0.22\n",
      "Cumulative Proportion 0.44 0.78 1.00\n",
      "\n",
      " With factor correlations of \n",
      "      MR1   MR2   MR3\n",
      "MR1  1.00 -0.24  0.03\n",
      "MR2 -0.24  1.00 -0.07\n",
      "MR3  0.03 -0.07  1.00\n",
      "\n",
      "Mean item complexity =  1.5\n",
      "Test of the hypothesis that 3 factors are sufficient.\n",
      "\n",
      "The degrees of freedom for the null model are  91  and the objective function was  3.01 with Chi Square of  224.1\n",
      "The degrees of freedom for the model are 52  and the objective function was  0.93 \n",
      "\n",
      "The root mean square of the residuals (RMSR) is  0.07 \n",
      "The df corrected root mean square of the residuals is  0.09 \n",
      "\n",
      "The harmonic number of observations is  81 with the empirical chi square  63.71  with prob <  0.13 \n",
      "The total number of observations was  81  with Likelihood Chi Square =  67.58  with prob <  0.072 \n",
      "\n",
      "Tucker Lewis Index of factoring reliability =  0.785\n",
      "RMSEA index =  0.074  and the 90 % confidence intervals are  0 0.099\n",
      "BIC =  -160.93\n",
      "Fit based upon off diagonal values = 0.87\n",
      "Measures of factor score adequacy             \n",
      "                                                MR1  MR2  MR3\n",
      "Correlation of scores with factors             0.91 0.84 0.77\n",
      "Multiple R square of scores with factors       0.83 0.71 0.60\n",
      "Minimum correlation of possible factor scores  0.67 0.43 0.19\n",
      "\n",
      "Loadings:\n",
      "                       MR1    MR2    MR3   \n",
      "X                             -0.336       \n",
      "age                                   0.629\n",
      "sex_male               -0.304              \n",
      "race_white                                 \n",
      "religious                            -0.351\n",
      "concussion_hxdx         0.303  0.351       \n",
      "historical_dx_count                   0.571\n",
      "impact_verbal_memory    0.844              \n",
      "impact_visual_memory    0.619              \n",
      "impact_comment          0.677              \n",
      "impact_impulse_control         0.387       \n",
      "impact_reaction_time           0.668       \n",
      "impact_total_symptom           0.454       \n",
      "impact_visual_motor           -0.545       \n",
      "\n",
      "                 MR1   MR2   MR3\n",
      "SS loadings    1.924 1.523 0.969\n",
      "Proportion Var 0.137 0.109 0.069\n",
      "Cumulative Var 0.137 0.246 0.315\n"
     ]
    }
   ],
   "source": [
    "threefactor <- fa(final_stan,nfactors = 3,rotate = \"oblimin\",fm=\"minres\") #oblique rotation, as there appears to be some correlations\n",
    "print(threefactor)\n",
    "print(threefactor$loadings,cutoff = 0.3)#prints factors with a loading >= 0.3"
   ]
  },
  {
   "cell_type": "code",
   "execution_count": 25,
   "metadata": {},
   "outputs": [
    {
     "data": {
      "image/png": "[encoded data removed]",
      "text/plain": [
       "Plot with title \"Factor Analysis\""
      ]
     },
     "metadata": {},
     "output_type": "display_data"
    }
   ],
   "source": [
    "fa.diagram(threefactor) #plots loadings"
   ]
  },
  {
   "cell_type": "markdown",
   "metadata": {},
   "source": [
    "interpretations: <br>\n",
    "RMSR = 0.06 (meh, want close 0) <br>\n",
    "RMSEA index =  0.077 (good fit = < 0.05) <br>\n",
    "Tucker Lewis Index of factoring reliability =  0.776 (want over 0.9)<br>\n",
    "\n",
    "The summary statistics from above indicate that the current structure isn't the best fit. Either more data is needed (which is likely anyway), or a different modeling structure coculd be warranted.\n"
   ]
  }
 ],
 "metadata": {
  "kernelspec": {
   "display_name": "R",
   "language": "R",
   "name": "ir"
  },
  "language_info": {
   "codemirror_mode": "r",
   "file_extension": ".r",
   "mimetype": "text/x-r-source",
   "name": "R",
   "pygments_lexer": "r",
   "version": "3.4.1"
  }
 },
 "nbformat": 4,
 "nbformat_minor": 2
}
