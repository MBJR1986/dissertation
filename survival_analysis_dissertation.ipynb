{
 "cells": [
  {
   "cell_type": "markdown",
   "metadata": {},
   "source": [
    "### Reseach Question: What factors influence the length of treatment after an individual has a concussion? <br>\n",
    "<br>\n",
    "Currently, demographic factors, clinical history, and social determinants of health are included. Results from the concussion evaluation (i.e. ImPACT results are not included). <br>\n",
    "<br>\n",
    "Approach: all-group Kaplan-Meier survival curve/analysis, and Cox Proportional Hazards for individual covariate assessment"
   ]
  },
  {
   "cell_type": "markdown",
   "metadata": {},
   "source": [
    "TODO: add in SVI data (awaiting zipcodes for patient_ids"
   ]
  },
  {
   "cell_type": "code",
   "execution_count": 80,
   "metadata": {},
   "outputs": [
    {
     "name": "stderr",
     "output_type": "stream",
     "text": [
      "Warning message:\n",
      "\"package 'ranger' is in use and will not be installed\"Warning message:\n",
      "\"package 'ggfortify' is in use and will not be installed\"Warning message:\n",
      "\"package 'sqldf' is in use and will not be installed\""
     ]
    }
   ],
   "source": [
    "#load libraries\n",
    "library(survival)\n",
    "install.packages(\"ranger\", repos='http://cran.us.r-project.org') #if not installed\n",
    "library(ranger) #for random forest, may be obsolete\n",
    "library(dplyr)\n",
    "library(ggplot2)\n",
    "install.packages(\"ggfortify\", repos='http://cran.us.r-project.org') #if not installed\n",
    "library(ggfortify)\n",
    "install.packages(\"sqldf\", repos='http://cran.us.r-project.org')\n",
    "library(sqldf)\n"
   ]
  },
  {
   "cell_type": "markdown",
   "metadata": {},
   "source": [
    "<br>\n",
    "Data for this analysis includes all individuals with a diagnosed concussion between the dates of X and X (TODO) and were seen at the KUMC Concussion Clinic. <br>\n",
    "<br>\n",
    "Variables assessed: <br>\n",
    "- Age<br>\n",
    "- Sex<br>\n",
    "- Race <br>\n",
    "- English speaking <br>\n",
    "- Relgious <br>\n",
    "- Social determinants of health <br>\n",
    "- Previous concussion diagnosis <br>\n",
    "- Diagnosed ADHD, migraines, anxiety, learning, and other psychiatric disorders <br>\n"
   ]
  },
  {
   "cell_type": "code",
   "execution_count": 7,
   "metadata": {},
   "outputs": [
    {
     "data": {
      "text/html": [
       "<table>\n",
       "<thead><tr><th scope=col>X</th><th scope=col>patient_num</th><th scope=col>length_of_treat</th><th scope=col>sex</th><th scope=col>english_speaking</th><th scope=col>religious</th><th scope=col>age</th><th scope=col>race</th><th scope=col>ADHD</th><th scope=col>Anxiety</th><th scope=col>Concussion</th><th scope=col>Depression</th><th scope=col>Dyslexia</th><th scope=col>Migraine</th><th scope=col>Psychiatric_illness</th><th scope=col>dc</th></tr></thead>\n",
       "<tbody>\n",
       "\t<tr><td>1      </td><td>1000531</td><td>7      </td><td>m      </td><td>1      </td><td>1      </td><td>18     </td><td>white  </td><td>0      </td><td>0      </td><td>0      </td><td>0      </td><td>0      </td><td>0      </td><td>0      </td><td>1      </td></tr>\n",
       "\t<tr><td>2      </td><td>1005576</td><td>0      </td><td>m      </td><td>1      </td><td>1      </td><td>22     </td><td>white  </td><td>0      </td><td>0      </td><td>0      </td><td>0      </td><td>0      </td><td>0      </td><td>0      </td><td>1      </td></tr>\n",
       "\t<tr><td>3      </td><td>1008021</td><td>0      </td><td>m      </td><td>1      </td><td>0      </td><td>26     </td><td>white  </td><td>0      </td><td>0      </td><td>0      </td><td>0      </td><td>0      </td><td>0      </td><td>0      </td><td>1      </td></tr>\n",
       "\t<tr><td>4      </td><td>1012467</td><td>0      </td><td>m      </td><td>1      </td><td>1      </td><td>18     </td><td>white  </td><td>0      </td><td>0      </td><td>1      </td><td>0      </td><td>0      </td><td>0      </td><td>0      </td><td>1      </td></tr>\n",
       "\t<tr><td>5      </td><td>1013758</td><td>5      </td><td>m      </td><td>1      </td><td>1      </td><td>17     </td><td>white  </td><td>0      </td><td>0      </td><td>0      </td><td>0      </td><td>0      </td><td>0      </td><td>0      </td><td>1      </td></tr>\n",
       "\t<tr><td>6      </td><td>1013820</td><td>8      </td><td>m      </td><td>1      </td><td>0      </td><td>20     </td><td>white  </td><td>0      </td><td>0      </td><td>1      </td><td>0      </td><td>0      </td><td>0      </td><td>0      </td><td>1      </td></tr>\n",
       "</tbody>\n",
       "</table>\n"
      ],
      "text/latex": [
       "\\begin{tabular}{r|llllllllllllllll}\n",
       " X & patient\\_num & length\\_of\\_treat & sex & english\\_speaking & religious & age & race & ADHD & Anxiety & Concussion & Depression & Dyslexia & Migraine & Psychiatric\\_illness & dc\\\\\n",
       "\\hline\n",
       "\t 1       & 1000531 & 7       & m       & 1       & 1       & 18      & white   & 0       & 0       & 0       & 0       & 0       & 0       & 0       & 1      \\\\\n",
       "\t 2       & 1005576 & 0       & m       & 1       & 1       & 22      & white   & 0       & 0       & 0       & 0       & 0       & 0       & 0       & 1      \\\\\n",
       "\t 3       & 1008021 & 0       & m       & 1       & 0       & 26      & white   & 0       & 0       & 0       & 0       & 0       & 0       & 0       & 1      \\\\\n",
       "\t 4       & 1012467 & 0       & m       & 1       & 1       & 18      & white   & 0       & 0       & 1       & 0       & 0       & 0       & 0       & 1      \\\\\n",
       "\t 5       & 1013758 & 5       & m       & 1       & 1       & 17      & white   & 0       & 0       & 0       & 0       & 0       & 0       & 0       & 1      \\\\\n",
       "\t 6       & 1013820 & 8       & m       & 1       & 0       & 20      & white   & 0       & 0       & 1       & 0       & 0       & 0       & 0       & 1      \\\\\n",
       "\\end{tabular}\n"
      ],
      "text/markdown": [
       "\n",
       "X | patient_num | length_of_treat | sex | english_speaking | religious | age | race | ADHD | Anxiety | Concussion | Depression | Dyslexia | Migraine | Psychiatric_illness | dc | \n",
       "|---|---|---|---|---|---|\n",
       "| 1       | 1000531 | 7       | m       | 1       | 1       | 18      | white   | 0       | 0       | 0       | 0       | 0       | 0       | 0       | 1       | \n",
       "| 2       | 1005576 | 0       | m       | 1       | 1       | 22      | white   | 0       | 0       | 0       | 0       | 0       | 0       | 0       | 1       | \n",
       "| 3       | 1008021 | 0       | m       | 1       | 0       | 26      | white   | 0       | 0       | 0       | 0       | 0       | 0       | 0       | 1       | \n",
       "| 4       | 1012467 | 0       | m       | 1       | 1       | 18      | white   | 0       | 0       | 1       | 0       | 0       | 0       | 0       | 1       | \n",
       "| 5       | 1013758 | 5       | m       | 1       | 1       | 17      | white   | 0       | 0       | 0       | 0       | 0       | 0       | 0       | 1       | \n",
       "| 6       | 1013820 | 8       | m       | 1       | 0       | 20      | white   | 0       | 0       | 1       | 0       | 0       | 0       | 0       | 1       | \n",
       "\n",
       "\n"
      ],
      "text/plain": [
       "  X patient_num length_of_treat sex english_speaking religious age race  ADHD\n",
       "1 1 1000531     7               m   1                1         18  white 0   \n",
       "2 2 1005576     0               m   1                1         22  white 0   \n",
       "3 3 1008021     0               m   1                0         26  white 0   \n",
       "4 4 1012467     0               m   1                1         18  white 0   \n",
       "5 5 1013758     5               m   1                1         17  white 0   \n",
       "6 6 1013820     8               m   1                0         20  white 0   \n",
       "  Anxiety Concussion Depression Dyslexia Migraine Psychiatric_illness dc\n",
       "1 0       0          0          0        0        0                   1 \n",
       "2 0       0          0          0        0        0                   1 \n",
       "3 0       0          0          0        0        0                   1 \n",
       "4 0       1          0          0        0        0                   1 \n",
       "5 0       0          0          0        0        0                   1 \n",
       "6 0       1          0          0        0        0                   1 "
      ]
     },
     "metadata": {},
     "output_type": "display_data"
    }
   ],
   "source": [
    "#load data:\n",
    "setwd(\"C:/Users/MB047320/OneDrive - Cerner Corporation/KUMC/Dissertation/data/Mark_dissertation_20170718/\")\n",
    "surv <- read.csv(\"survival_analysis_df.csv\")\n",
    "head(surv)"
   ]
  },
  {
   "cell_type": "markdown",
   "metadata": {},
   "source": [
    "The dataset contains 665 individuals seen at the KUMC Concussion clinic and had a diagnosed concussion. Some variables were converted to binary categories, like 'english-speaking' and 'religious'. A '1' for these variables represents a positive event (i.e. 1 = patient speaks English, or is religious). <br>\n",
    "<br>\n"
   ]
  },
  {
   "cell_type": "markdown",
   "metadata": {},
   "source": [
    "## Kaplan Meier Survival Analysis\n",
    "Survival analysis has traditionally been used to describe interventional approaches and the impact on survival (i.e. Death over time). The analysis is of interest to me, as I am interested in determining the time till an event of interest (length of treatment, or time to discharge). "
   ]
  },
  {
   "cell_type": "code",
   "execution_count": 11,
   "metadata": {
    "collapsed": true
   },
   "outputs": [],
   "source": [
    "#surv() to build survival object\n",
    "km <- with(surv, Surv(length_of_treat, dc))"
   ]
  },
  {
   "cell_type": "markdown",
   "metadata": {},
   "source": [
    "Build Kaplan Meier 'survival' probability estimates of survival over time"
   ]
  },
  {
   "cell_type": "code",
   "execution_count": 14,
   "metadata": {},
   "outputs": [
    {
     "data": {
      "text/plain": [
       "Call: survfit(formula = Surv(length_of_treat, dc) ~ 1, data = surv)\n",
       "\n",
       " time n.risk n.event survival std.err lower 95% CI upper 95% CI\n",
       "    1    439     226  0.66015 0.01837      0.62511       0.6972\n",
       "    5    435      13  0.64060 0.01861      0.60515       0.6781\n",
       "   10    295     146  0.42105 0.01915      0.38515       0.4603\n",
       "   15    222      63  0.32632 0.01818      0.29256       0.3640\n",
       "   20    193      29  0.28271 0.01746      0.25047       0.3191\n",
       "   40     99      92  0.14436 0.01363      0.11997       0.1737\n",
       "   60     59      37  0.08872 0.01103      0.06954       0.1132\n",
       "   80     36      23  0.05414 0.00877      0.03940       0.0744\n",
       "  100     22      14  0.03308 0.00694      0.02194       0.0499\n",
       "  120     14       8  0.02105 0.00557      0.01254       0.0354\n",
       "  140     12       2  0.01805 0.00516      0.01030       0.0316\n",
       "  160      9       4  0.01203 0.00423      0.00604       0.0240\n",
       "  180      6       2  0.00902 0.00367      0.00407       0.0200\n",
       "  200      3       3  0.00451 0.00260      0.00146       0.0140"
      ]
     },
     "metadata": {},
     "output_type": "display_data"
    }
   ],
   "source": [
    "km_fit <- survfit(Surv(length_of_treat,dc)~1, data = surv)\n",
    "summary(km_fit, times = c(1,5,10,15,20*(1:10))) #prints estimates for 1,5,10 etc, days, then every 20 days after"
   ]
  },
  {
   "cell_type": "markdown",
   "metadata": {},
   "source": [
    "Displayed above are the events and 'risk' estimates at different time points (1 day, 5 days etc). Here, the survival statistic is opposite of how the metric is traditionally interpretted. Because my analysis is evaluating a positive event (time to discharge), as opposed to mortality, we actually want this statistic to be smaller over time. Again, traditionally, this represents survival and we would want it as high over time, but in this case, a higher number represents a greater likelihood of continued treatment (and thus, lack of recovery)."
   ]
  },
  {
   "cell_type": "code",
   "execution_count": 16,
   "metadata": {},
   "outputs": [
    {
     "data": {},
     "metadata": {},
     "output_type": "display_data"
    },
    {
     "data": {
      "image/png": "[encoded data removed]",
      "text/plain": [
       "plot without title"
      ]
     },
     "metadata": {},
     "output_type": "display_data"
    }
   ],
   "source": [
    "#plot general survival curve (time = days)\n",
    "autoplot(km_fit)"
   ]
  },
  {
   "cell_type": "markdown",
   "metadata": {},
   "source": [
    "In survival plot, you'll notice a large drop immediately. This represents ~35% of the population went to their evaluation appointment, but never followed up again and thus only had 1 clinic visit.<br>\n",
    "<br>\n",
    "The survival plot does show that generally, the population gets better quickly. Roughly 25% of the population has been discharged by day 25, which is in line with most literature."
   ]
  },
  {
   "cell_type": "code",
   "execution_count": 76,
   "metadata": {},
   "outputs": [
    {
     "data": {},
     "metadata": {},
     "output_type": "display_data"
    },
    {
     "name": "stdout",
     "output_type": "stream",
     "text": [
      "Call: survfit(formula = Surv(length_of_treat, dc) ~ sex, data = surv)\n",
      "\n",
      "        n events median 0.95LCL 0.95UCL\n",
      "sex=f 276    276     10       8      14\n",
      "sex=m 389    389      7       7       8\n"
     ]
    },
    {
     "data": {
      "image/png": "[encoded data removed]",
      "text/plain": [
       "plot without title"
      ]
     },
     "metadata": {},
     "output_type": "display_data"
    }
   ],
   "source": [
    "#plot survival curve by sex (aka strata)\n",
    "km_sex_fit <- survfit(Surv(length_of_treat,dc)~ sex, data = surv) #need to refit with sex as a grouper\n",
    "autoplot(km_sex_fit)\n",
    "print(km_sex_fit)"
   ]
  },
  {
   "cell_type": "markdown",
   "metadata": {},
   "source": [
    "Looks like there is a difference in treatment time between sexes... Not sure if the difference is significant (yet). To assess whether the difference between the two curves is statistically significant, I'll need to do a Log Rank test comparing the curves using the function (survdiff())."
   ]
  },
  {
   "cell_type": "code",
   "execution_count": 83,
   "metadata": {
    "scrolled": true
   },
   "outputs": [
    {
     "data": {
      "text/plain": [
       "Call:\n",
       "survdiff(formula = Surv(length_of_treat, dc) ~ sex, data = surv)\n",
       "\n",
       "        N Observed Expected (O-E)^2/E (O-E)^2/V\n",
       "sex=f 276      276      320      5.98      14.1\n",
       "sex=m 389      389      345      5.54      14.1\n",
       "\n",
       " Chisq= 14.1  on 1 degrees of freedom, p= 0.000174 "
      ]
     },
     "metadata": {},
     "output_type": "display_data"
    }
   ],
   "source": [
    "surv_diff_sex <- survdiff(Surv(length_of_treat, dc) ~ sex, data = surv)\n",
    "surv_diff_sex"
   ]
  },
  {
   "cell_type": "markdown",
   "metadata": {},
   "source": [
    "<br>\n",
    "<br>\n",
    "Interpretting the Log Rank test between the Male/Female survival plots: <br>\n",
    "<br>\n",
    "Much like a t-test, the log rank test's null hypothesis is that there are no differences between groups (and thus, survival curves). A p-value of less than 0.05 would indicate a significant difference (like a T-test). <br>\n",
    "<br>p = 0.000174 < 0.05, indicating a statistically significant difference between the sexes."
   ]
  },
  {
   "cell_type": "markdown",
   "metadata": {},
   "source": [
    " #### Plotting other possible groupers:"
   ]
  },
  {
   "cell_type": "code",
   "execution_count": 20,
   "metadata": {},
   "outputs": [
    {
     "data": {},
     "metadata": {},
     "output_type": "display_data"
    },
    {
     "data": {
      "image/png": "[encoded data removed]",
      "text/plain": [
       "plot without title"
      ]
     },
     "metadata": {},
     "output_type": "display_data"
    }
   ],
   "source": [
    "#plot survival curve by religious\n",
    "km_religious_fit <- survfit(Surv(length_of_treat,dc)~ religious, data = surv) #need to refit with sex as a grouper\n",
    "autoplot(km_religious_fit)"
   ]
  },
  {
   "cell_type": "code",
   "execution_count": 73,
   "metadata": {},
   "outputs": [
    {
     "data": {},
     "metadata": {},
     "output_type": "display_data"
    },
    {
     "data": {
      "image/png": "[encoded data removed]",
      "text/plain": [
       "plot without title"
      ]
     },
     "metadata": {},
     "output_type": "display_data"
    }
   ],
   "source": [
    "#plot survival curve by english speaking\n",
    "km_eng_fit <- survfit(Surv(length_of_treat,dc)~ english_speaking, data = surv) \n",
    "autoplot(km_eng_fit)"
   ]
  },
  {
   "cell_type": "code",
   "execution_count": 27,
   "metadata": {},
   "outputs": [
    {
     "data": {},
     "metadata": {},
     "output_type": "display_data"
    },
    {
     "data": {
      "image/png": "[encoded data removed]",
      "text/plain": [
       "plot without title"
      ]
     },
     "metadata": {},
     "output_type": "display_data"
    }
   ],
   "source": [
    "#plot survival curve by concussion history\n",
    "km_concussion_fit <- survfit(Surv(length_of_treat,dc)~ Concussion, data = surv) \n",
    "autoplot(km_concussion_fit)"
   ]
  },
  {
   "cell_type": "code",
   "execution_count": 30,
   "metadata": {},
   "outputs": [
    {
     "data": {},
     "metadata": {},
     "output_type": "display_data"
    },
    {
     "data": {
      "image/png": "[encoded data removed]",
      "text/plain": [
       "plot without title"
      ]
     },
     "metadata": {},
     "output_type": "display_data"
    }
   ],
   "source": [
    "#plot survival curve by anxiety dx\n",
    "km_anx_fit <- survfit(Surv(length_of_treat,dc)~ Anxiety, data = surv) \n",
    "autoplot(km_anx_fit)"
   ]
  },
  {
   "cell_type": "code",
   "execution_count": 38,
   "metadata": {},
   "outputs": [
    {
     "data": {
      "text/html": [
       "<table>\n",
       "<thead><tr><th scope=col>ADHD</th><th scope=col>Anxiety</th><th scope=col>Concussion</th><th scope=col>Depression</th><th scope=col>Dyslexia</th><th scope=col>Migraine</th><th scope=col>Psychiatric_illness</th></tr></thead>\n",
       "<tbody>\n",
       "\t<tr><td>28 </td><td>13 </td><td>117</td><td>10 </td><td>1  </td><td>8  </td><td>1  </td></tr>\n",
       "</tbody>\n",
       "</table>\n"
      ],
      "text/latex": [
       "\\begin{tabular}{r|lllllll}\n",
       " ADHD & Anxiety & Concussion & Depression & Dyslexia & Migraine & Psychiatric\\_illness\\\\\n",
       "\\hline\n",
       "\t 28  & 13  & 117 & 10  & 1   & 8   & 1  \\\\\n",
       "\\end{tabular}\n"
      ],
      "text/markdown": [
       "\n",
       "ADHD | Anxiety | Concussion | Depression | Dyslexia | Migraine | Psychiatric_illness | \n",
       "|---|\n",
       "| 28  | 13  | 117 | 10  | 1   | 8   | 1   | \n",
       "\n",
       "\n"
      ],
      "text/plain": [
       "  ADHD Anxiety Concussion Depression Dyslexia Migraine Psychiatric_illness\n",
       "1 28   13      117        10         1        8        1                  "
      ]
     },
     "metadata": {},
     "output_type": "display_data"
    }
   ],
   "source": [
    "#displaying counts of patients with each diagnosis\n",
    "sqldf(\"select SUM(ADHD) as ADHD\n",
    ",SUM(Anxiety) as Anxiety\n",
    ",SUM(Concussion) as Concussion\n",
    ",SUM(Depression) as Depression\n",
    ",SUM(Dyslexia) as Dyslexia\n",
    ",SUM(Migraine) as Migraine\n",
    ",SUM(Psychiatric_illness) as Psychiatric_illness\n",
    "from surv\")"
   ]
  },
  {
   "cell_type": "markdown",
   "metadata": {},
   "source": [
    "Note: there are not many people with other diagnoses of interest. Thus, individual comparisons should be considered cautiously. Concussion history may be meaningful, though. <br>\n",
    "<br>\n",
    "Age is a continuous variable and can't plot without dichotomizing. Since age is previously important for recovery, slicing the data at a specific range could be interesting."
   ]
  },
  {
   "cell_type": "code",
   "execution_count": 55,
   "metadata": {},
   "outputs": [
    {
     "data": {},
     "metadata": {},
     "output_type": "display_data"
    },
    {
     "data": {
      "image/png": "[encoded data removed]",
      "text/plain": [
       "plot without title"
      ]
     },
     "metadata": {},
     "output_type": "display_data"
    }
   ],
   "source": [
    "#create new dataframe with age separated into dummy (18yo)\n",
    "age <- mutate(surv, AG = ifelse((age < 18), \"U18\", \"18+\"),\n",
    "             AG = factor(AG))\n",
    "km_AG_fit <- survfit(Surv(length_of_treat,dc) ~ AG, data = age)\n",
    "autoplot(km_AG_fit)\n"
   ]
  },
  {
   "cell_type": "code",
   "execution_count": 52,
   "metadata": {},
   "outputs": [
    {
     "data": {
      "text/plain": [
       "   Min. 1st Qu.  Median    Mean 3rd Qu.    Max. \n",
       "   9.00   15.00   17.00   17.55   18.00   65.00 "
      ]
     },
     "metadata": {},
     "output_type": "display_data"
    },
    {
     "data": {
      "image/png": "[encoded data removed]",
      "text/plain": [
       "Plot with title \"Histogram of surv$age\""
      ]
     },
     "metadata": {},
     "output_type": "display_data"
    }
   ],
   "source": [
    "summary(surv$age)\n",
    "hist(surv$age)"
   ]
  },
  {
   "cell_type": "markdown",
   "metadata": {},
   "source": [
    "It looks like there could be an age effect, as older individuals appear to have longer tx."
   ]
  },
  {
   "cell_type": "markdown",
   "metadata": {
    "collapsed": true
   },
   "source": [
    "## Cox Proportional Hazards regression"
   ]
  },
  {
   "cell_type": "markdown",
   "metadata": {
    "collapsed": true
   },
   "source": [
    "https://en.wikipedia.org/wiki/Proportional_hazards_model <br>\n",
    "http://www.sthda.com/english/wiki/cox-proportional-hazards-model <br>\n",
    "\n",
    "###### Univariate Cox regression"
   ]
  },
  {
   "cell_type": "code",
   "execution_count": 88,
   "metadata": {},
   "outputs": [
    {
     "data": {
      "text/plain": [
       "Call:\n",
       "coxph(formula = Surv(length_of_treat, dc) ~ sex, data = surv)\n",
       "\n",
       "  n= 665, number of events= 665 \n",
       "\n",
       "        coef exp(coef) se(coef)     z Pr(>|z|)    \n",
       "sexm 0.29152   1.33846  0.07994 3.647 0.000266 ***\n",
       "---\n",
       "Signif. codes:  0 '***' 0.001 '**' 0.01 '*' 0.05 '.' 0.1 ' ' 1\n",
       "\n",
       "     exp(coef) exp(-coef) lower .95 upper .95\n",
       "sexm     1.338     0.7471     1.144     1.565\n",
       "\n",
       "Concordance= 0.535  (se = 0.015 )\n",
       "Rsquare= 0.02   (max possible= 1 )\n",
       "Likelihood ratio test= 13.49  on 1 df,   p=0.0002404\n",
       "Wald test            = 13.3  on 1 df,   p=0.0002655\n",
       "Score (logrank) test = 13.39  on 1 df,   p=0.0002532\n"
      ]
     },
     "metadata": {},
     "output_type": "display_data"
    }
   ],
   "source": [
    "res.cox <- coxph(Surv(length_of_treat, dc) ~ sex, data = surv)\n",
    "summary(res.cox)"
   ]
  },
  {
   "cell_type": "markdown",
   "metadata": {},
   "source": [
    "In the univariate run (as sex as a covariate), p < 0.05, thus significant model. Beta coefficient of 0.29152 indicates that females have a higher risk of long treatments, when compared to males. Hazard ratios give the effect size of the covariate. Here, being female increases the hazard by a factor of 1.34. Being male is associated with a better prognostic, which coincides with the literature. NOTE: Since my outcome of interest (Length of treatment time) represents the opposite interpretation as Survival, ideally all hazard ratios should be interpretted inversely. (here, a positive hazard ratio for male sex would indicate quicker death, but with LOT, it indicates a faster recovery)\n",
    "<br>\n",
    "<br>\n",
    "###### Multivariate Cox regression <br>\n"
   ]
  },
  {
   "cell_type": "code",
   "execution_count": 89,
   "metadata": {},
   "outputs": [
    {
     "data": {
      "text/plain": [
       "Call:\n",
       "coxph(formula = Surv(length_of_treat, dc) ~ sex + english_speaking + \n",
       "    religious + age + race + ADHD + Anxiety + Concussion + Depression + \n",
       "    Dyslexia + Migraine + Psychiatric_illness, data = surv)\n",
       "\n",
       "  n= 665, number of events= 665 \n",
       "\n",
       "                         coef exp(coef)  se(coef)      z Pr(>|z|)    \n",
       "sexm                 0.307632  1.360200  0.082363  3.735 0.000188 ***\n",
       "english_speaking    -0.698758  0.497202  0.364386 -1.918 0.055157 .  \n",
       "religious           -0.026716  0.973638  0.079972 -0.334 0.738333    \n",
       "age                 -0.017415  0.982736  0.007295 -2.387 0.016971 *  \n",
       "raceasian            0.354748  1.425821  1.070051  0.332 0.740249    \n",
       "raceblack           -0.474382  0.622270  1.013832 -0.468 0.639849    \n",
       "racedeclined        -0.500723  0.606092  1.073543 -0.466 0.640914    \n",
       "raceother           -0.473139  0.623044  1.009123 -0.469 0.639169    \n",
       "racepac islander     1.188334  3.281609  1.415695  0.839 0.401245    \n",
       "racetwo races       -0.133210  0.875281  1.053215 -0.126 0.899353    \n",
       "racewhite           -0.377941  0.685271  1.003236 -0.377 0.706380    \n",
       "ADHD                 0.014287  1.014389  0.199372  0.072 0.942873    \n",
       "Anxiety             -0.128404  0.879498  0.346671 -0.370 0.711090    \n",
       "Concussion          -0.203402  0.815951  0.105727 -1.924 0.054376 .  \n",
       "Depression           0.291522  1.338463  0.386393  0.754 0.450566    \n",
       "Dyslexia            -1.261671  0.283180  1.025393 -1.230 0.218537    \n",
       "Migraine             0.037157  1.037856  0.395593  0.094 0.925167    \n",
       "Psychiatric_illness  2.019015  7.530906  1.084215  1.862 0.062576 .  \n",
       "---\n",
       "Signif. codes:  0 '***' 0.001 '**' 0.01 '*' 0.05 '.' 0.1 ' ' 1\n",
       "\n",
       "                    exp(coef) exp(-coef) lower .95 upper .95\n",
       "sexm                   1.3602     0.7352   1.15743    1.5985\n",
       "english_speaking       0.4972     2.0113   0.24343    1.0155\n",
       "religious              0.9736     1.0271   0.83239    1.1389\n",
       "age                    0.9827     1.0176   0.96878    0.9969\n",
       "raceasian              1.4258     0.7014   0.17508   11.6116\n",
       "raceblack              0.6223     1.6070   0.08531    4.5389\n",
       "racedeclined           0.6061     1.6499   0.07392    4.9698\n",
       "raceother              0.6230     1.6050   0.08621    4.5028\n",
       "racepac islander       3.2816     0.3047   0.20467   52.6173\n",
       "racetwo races          0.8753     1.1425   0.11108    6.8968\n",
       "racewhite              0.6853     1.4593   0.09592    4.8957\n",
       "ADHD                   1.0144     0.9858   0.68628    1.4994\n",
       "Anxiety                0.8795     1.1370   0.44581    1.7351\n",
       "Concussion             0.8160     1.2256   0.66324    1.0038\n",
       "Depression             1.3385     0.7471   0.62764    2.8543\n",
       "Dyslexia               0.2832     3.5313   0.03795    2.1129\n",
       "Migraine               1.0379     0.9635   0.47798    2.2535\n",
       "Psychiatric_illness    7.5309     0.1328   0.89942   63.0570\n",
       "\n",
       "Concordance= 0.545  (se = 0.017 )\n",
       "Rsquare= 0.057   (max possible= 1 )\n",
       "Likelihood ratio test= 38.85  on 18 df,   p=0.002984\n",
       "Wald test            = 39.93  on 18 df,   p=0.002134\n",
       "Score (logrank) test = 42.05  on 18 df,   p=0.001089\n"
      ]
     },
     "metadata": {},
     "output_type": "display_data"
    }
   ],
   "source": [
    "cox <- coxph(Surv(length_of_treat, dc) ~ sex + english_speaking + religious + age + race + ADHD + Anxiety + Concussion +\n",
    "             Depression + Dyslexia + Migraine + Psychiatric_illness, data = surv)\n",
    "summary(cox)"
   ]
  },
  {
   "cell_type": "markdown",
   "metadata": {},
   "source": [
    "Interpretation: general model significance was reached, as all p-values for Likelihood ratio, Wald, and score tests are < 0.05. These tests basically test the null hypothesis that all covariate beta values are 0, so there is something going on here. <br>\n",
    "<br>\n",
    "Here, the covariates sex and age remain significant, with english_speaking, concussion history, and psychiatric illness representing covariates close to signficance. <br>\n",
    "<br>\n",
    "P-value for sex = 0.000188, with a hazards ratio of 1.36, indicating a strong relationship between the patient's sex and length of treatment time. Hazards ratios of covariates are interpretable as multiplicative effects on the hazard itself. For example, holding the other covariates constant, being female (sex = 'f') increases the hazard by a factor of 1.36, and is associated with longer recoveries.<br>\n",
    "<br>\n",
    "Similarly, the p-value for age was 0.01, but with a hazard ratio of .98, the continuous variable doesn't provide much change of risk across the age continuum in our participants (HR = 1 represents no change in risk). "
   ]
  },
  {
   "cell_type": "code",
   "execution_count": 60,
   "metadata": {},
   "outputs": [
    {
     "data": {},
     "metadata": {},
     "output_type": "display_data"
    },
    {
     "data": {
      "image/png": "[encoded data removed]",
      "text/plain": [
       "plot without title"
      ]
     },
     "metadata": {},
     "output_type": "display_data"
    }
   ],
   "source": [
    "cox_fit <- survfit(cox)\n",
    "autoplot(cox_fit)"
   ]
  },
  {
   "cell_type": "markdown",
   "metadata": {},
   "source": [
    "Concordance stat is terrible, barely over a coinflip. Some of this may be improved with eliminating some dx categories (i.e. psych illness, which had one case, along with dyslexia).<br>\n",
    "<br>\n",
    "Cox regression has flagged age and sex as being statistically significant predictors, and a previous diagnosis of concussion and english-speaking as close covariates for inclusion.\n"
   ]
  },
  {
   "cell_type": "markdown",
   "metadata": {},
   "source": [
    "### Random Forest model (for fun...)"
   ]
  },
  {
   "cell_type": "code",
   "execution_count": 63,
   "metadata": {},
   "outputs": [
    {
     "data": {
      "image/png": "[encoded data removed]",
      "text/plain": [
       "Plot with title \"Patient Survival Curves\""
      ]
     },
     "metadata": {},
     "output_type": "display_data"
    }
   ],
   "source": [
    "# ranger model\n",
    "r_fit <- ranger(Surv(length_of_treat, dc) ~ sex + english_speaking + religious + age + race + ADHD + Anxiety + Concussion +\n",
    "             Depression + Dyslexia + Migraine + Psychiatric_illness, data = surv,\n",
    "                     mtry = 4,\n",
    "                     importance = \"permutation\",\n",
    "                     splitrule = \"extratrees\",\n",
    "                     verbose = TRUE)\n",
    "\n",
    "# Average the survival models\n",
    "death_times <- r_fit$unique.death.times \n",
    "surv_prob <- data.frame(r_fit$survival)\n",
    "avg_prob <- sapply(surv_prob,mean)\n",
    "\n",
    "# Plot the survival models for each patient\n",
    "plot(r_fit$unique.death.times,r_fit$survival[1,], \n",
    "     type = \"l\", \n",
    "     ylim = c(0,1),\n",
    "     col = \"red\",\n",
    "     xlab = \"Days\",\n",
    "     ylab = \"survival\",\n",
    "     main = \"Patient Survival Curves\")\n",
    "\n",
    "#\n",
    "cols <- colors()\n",
    "for (n in sample(c(2:dim(surv)[1]), 20)){\n",
    "  lines(r_fit$unique.death.times, r_fit$survival[n,], type = \"l\", col = cols[n])\n",
    "}\n",
    "lines(death_times, avg_prob, lwd = 2)\n",
    "legend(500, 0.7, legend = c('Average = black'))"
   ]
  },
  {
   "cell_type": "code",
   "execution_count": 67,
   "metadata": {},
   "outputs": [
    {
     "data": {
      "text/html": [
       "<table>\n",
       "<thead><tr><th></th><th scope=col>importance</th></tr></thead>\n",
       "<tbody>\n",
       "\t<tr><th scope=row>sex</th><td> 0.0191739064</td></tr>\n",
       "\t<tr><th scope=row>Concussion</th><td> 0.0069182495</td></tr>\n",
       "\t<tr><th scope=row>Migraine</th><td> 0.0000401710</td></tr>\n",
       "\t<tr><th scope=row>Depression</th><td> 0.0000141357</td></tr>\n",
       "\t<tr><th scope=row>Dyslexia</th><td> 0.0000000000</td></tr>\n",
       "\t<tr><th scope=row>Psychiatric_illness</th><td> 0.0000000000</td></tr>\n",
       "\t<tr><th scope=row>Anxiety</th><td>-0.0000051948</td></tr>\n",
       "\t<tr><th scope=row>ADHD</th><td>-0.0001460977</td></tr>\n",
       "\t<tr><th scope=row>age</th><td>-0.0004083838</td></tr>\n",
       "\t<tr><th scope=row>english_speaking</th><td>-0.0010083661</td></tr>\n",
       "</tbody>\n",
       "</table>\n"
      ],
      "text/latex": [
       "\\begin{tabular}{r|l}\n",
       "  & importance\\\\\n",
       "\\hline\n",
       "\tsex &  0.0191739064\\\\\n",
       "\tConcussion &  0.0069182495\\\\\n",
       "\tMigraine &  0.0000401710\\\\\n",
       "\tDepression &  0.0000141357\\\\\n",
       "\tDyslexia &  0.0000000000\\\\\n",
       "\tPsychiatric\\_illness &  0.0000000000\\\\\n",
       "\tAnxiety & -0.0000051948\\\\\n",
       "\tADHD & -0.0001460977\\\\\n",
       "\tage & -0.0004083838\\\\\n",
       "\tenglish\\_speaking & -0.0010083661\\\\\n",
       "\\end{tabular}\n"
      ],
      "text/markdown": [
       "\n",
       "| <!--/--> | importance | \n",
       "|---|---|---|---|---|---|---|---|---|---|\n",
       "| sex |  0.0191739064 | \n",
       "| Concussion |  0.0069182495 | \n",
       "| Migraine |  0.0000401710 | \n",
       "| Depression |  0.0000141357 | \n",
       "| Dyslexia |  0.0000000000 | \n",
       "| Psychiatric_illness |  0.0000000000 | \n",
       "| Anxiety | -0.0000051948 | \n",
       "| ADHD | -0.0001460977 | \n",
       "| age | -0.0004083838 | \n",
       "| english_speaking | -0.0010083661 | \n",
       "\n",
       "\n"
      ],
      "text/plain": [
       "                    importance   \n",
       "sex                  0.0191739064\n",
       "Concussion           0.0069182495\n",
       "Migraine             0.0000401710\n",
       "Depression           0.0000141357\n",
       "Dyslexia             0.0000000000\n",
       "Psychiatric_illness  0.0000000000\n",
       "Anxiety             -0.0000051948\n",
       "ADHD                -0.0001460977\n",
       "age                 -0.0004083838\n",
       "english_speaking    -0.0010083661"
      ]
     },
     "metadata": {},
     "output_type": "display_data"
    }
   ],
   "source": [
    "#Ranger rank of variable importance\n",
    "vi <- data.frame(sort(round(r_fit$variable.importance, 10), decreasing = TRUE))\n",
    "names(vi) <- \"importance\"\n",
    "head(vi, 10)"
   ]
  },
  {
   "cell_type": "code",
   "execution_count": 69,
   "metadata": {},
   "outputs": [
    {
     "name": "stdout",
     "output_type": "stream",
     "text": [
      "Prediction Error = 1 - Harrell's c-index =  0.4774016"
     ]
    }
   ],
   "source": [
    "cat(\"Prediction Error = 1 - Harrell's c-index = \", r_fit$prediction.error)"
   ]
  },
  {
   "cell_type": "markdown",
   "metadata": {},
   "source": [
    "Random forest seems to be performing similarly to the Cox regression model. Concordance was 55%, this is about 53%."
   ]
  },
  {
   "cell_type": "code",
   "execution_count": 70,
   "metadata": {
    "collapsed": true
   },
   "outputs": [],
   "source": [
    "# Set up for ggplot\n",
    "kmi <- rep(\"KM\",length(km_fit$time))\n",
    "km_df <- data.frame(km_fit$time,km_fit$surv,kmi)\n",
    "names(km_df) <- c(\"Time\",\"Surv\",\"Model\")\n",
    "\n",
    "coxi <- rep(\"Cox\",length(cox_fit$time))\n",
    "cox_df <- data.frame(cox_fit$time,cox_fit$surv,coxi)\n",
    "names(cox_df) <- c(\"Time\",\"Surv\",\"Model\")\n",
    "\n",
    "rfi <- rep(\"RF\",length(r_fit$unique.death.times))\n",
    "rf_df <- data.frame(r_fit$unique.death.times,avg_prob,rfi)\n",
    "names(rf_df) <- c(\"Time\",\"Surv\",\"Model\")"
   ]
  },
  {
   "cell_type": "code",
   "execution_count": 72,
   "metadata": {},
   "outputs": [
    {
     "data": {},
     "metadata": {},
     "output_type": "display_data"
    },
    {
     "data": {
      "image/png": "[encoded data removed]",
      "text/plain": [
       "plot without title"
      ]
     },
     "metadata": {},
     "output_type": "display_data"
    }
   ],
   "source": [
    "plot_df <- rbind(km_df, cox_df, rf_df)\n",
    "\n",
    "p <- ggplot(plot_df, aes(x = Time, y = Surv, color = Model))\n",
    "p + geom_line()"
   ]
  },
  {
   "cell_type": "markdown",
   "metadata": {},
   "source": [
    "Given data, all three methods perform similarly. Granted 650 cases isn't likely enought data for a random forest model, it is still interesting to see the results. Although the random forest found different variables as most important."
   ]
  },
  {
   "cell_type": "code",
   "execution_count": null,
   "metadata": {
    "collapsed": true
   },
   "outputs": [],
   "source": []
  }
 ],
 "metadata": {
  "kernelspec": {
   "display_name": "R",
   "language": "R",
   "name": "ir"
  },
  "language_info": {
   "codemirror_mode": "r",
   "file_extension": ".r",
   "mimetype": "text/x-r-source",
   "name": "R",
   "pygments_lexer": "r",
   "version": "3.4.1"
  }
 },
 "nbformat": 4,
 "nbformat_minor": 2
}
